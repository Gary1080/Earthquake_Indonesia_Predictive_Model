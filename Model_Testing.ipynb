{
 "cells": [
  {
   "cell_type": "markdown",
   "id": "d857161b-26c4-4a5c-95ed-0f71e3bef25f",
   "metadata": {},
   "source": [
    "# **Earthquake Prediction Model Testing**\n",
    "------------------\n",
    "\n",
    "This notebook allows users to test the earthquake prediction model using their own input data. Note that it is configured to predict outcomes based on singular data points. Also, please ensure the pickle file 'random_forest_model.pkl' is contained in the same directory as the current notebook.\n"
   ]
  },
  {
   "cell_type": "code",
   "execution_count": 1,
   "id": "252144b4-620f-4a02-bda4-15d81e0fca30",
   "metadata": {},
   "outputs": [],
   "source": [
    "import pandas as pd\n",
    "import numpy as np\n",
    "import joblib\n",
    "from pprint import pprint\n",
    "\n",
    "# Load the model\n",
    "loaded_model = joblib.load('random_forest_model.pkl')"
   ]
  },
  {
   "cell_type": "markdown",
   "id": "17e7e581-c6d9-412b-b0b0-2c67731a9968",
   "metadata": {},
   "source": [
    "## User Input\n",
    "\n",
    "__Enter input data__ in the dictionary below remembering to __ignore any leading zeros__ (i.e. 03 should be written as 3). Day numbers are numbered from 0 to 6 corresponding to Monday to Sunday, respectively."
   ]
  },
  {
   "cell_type": "code",
   "execution_count": 2,
   "id": "385f91a2-299c-45c8-8ab5-4ede9a6ae9ed",
   "metadata": {},
   "outputs": [],
   "source": [
    "new_data_point = {\n",
    "    'year': 2022,\n",
    "    'month': 8,\n",
    "    'day': 5,\n",
    "    'hour': 21,\n",
    "    'minute': 44,\n",
    "    'weekday': 6,\n",
    "    'latitude': -6.09,\n",
    "    'longitude': 133.7327,\n",
    "    'depth': 33.1,\n",
    "    # 'magnitude': 5.51, # Not used in input features\n",
    "}"
   ]
  },
  {
   "cell_type": "markdown",
   "id": "1e7f2e03-02b2-4a13-bacd-cbccb8f4a74d",
   "metadata": {},
   "source": [
    "## Model Prediction\n",
    "Run the following block to generate a prediction based on input data (__DO NOT MODIFY THE BLOCK__)"
   ]
  },
  {
   "cell_type": "code",
   "execution_count": 3,
   "id": "63359da3-d016-4613-bcc2-bc214370e13c",
   "metadata": {},
   "outputs": [
    {
     "name": "stdout",
     "output_type": "stream",
     "text": [
      "\n",
      "For Input Data:\n",
      "{'day': 5,\n",
      " 'depth': 33.1,\n",
      " 'hour': 21,\n",
      " 'latitude': -6.09,\n",
      " 'longitude': 133.7327,\n",
      " 'minute': 44,\n",
      " 'month': 8,\n",
      " 'weekday': 6,\n",
      " 'year': 2022}\n",
      "\n",
      "Predicted Earthquake Magnitude = 4.82\n"
     ]
    }
   ],
   "source": [
    "# Function to convert date time inputs to cyclic data necessary for Random Forest Regression model\n",
    "def convert_to_cyclic(data):\n",
    "    data['month_sin'] = np.sin(2 * np.pi * data['month'] / 12)\n",
    "    data['month_cos'] = np.cos(2 * np.pi * data['month'] / 12)\n",
    "    data['day_sin'] = np.sin(2 * np.pi * data['day'] / 31)\n",
    "    data['day_cos'] = np.cos(2 * np.pi * data['day'] / 31)\n",
    "    data['hour_sin'] = np.sin(2 * np.pi * data['hour'] / 24)\n",
    "    data['hour_cos'] = np.cos(2 * np.pi * data['hour'] / 24)\n",
    "    data['minute_sin'] = np.sin(2 * np.pi * data['minute'] / 60)\n",
    "    data['minute_cos'] = np.cos(2 * np.pi * data['minute'] / 60)\n",
    "    data['weekday_sin'] = np.sin(2 * np.pi * data['weekday'] / 7)\n",
    "    data['weekday_cos'] = np.cos(2 * np.pi * data['weekday'] / 7)\n",
    "    return data\n",
    "\n",
    "# Convert to DataFrame\n",
    "new_data_df = pd.DataFrame([new_data_point])\n",
    "\n",
    "# Convert temporal features to cyclic\n",
    "new_data_df = convert_to_cyclic(new_data_df)\n",
    "\n",
    "# Drop original temporal features\n",
    "new_data_df = new_data_df.drop(['month', 'day', 'hour', 'minute', 'weekday'], axis=1)\n",
    "\n",
    "# Feature column names\n",
    "Feature_columns = ['year', 'month_sin', 'month_cos', 'day_sin', 'day_cos', 'hour_sin', 'hour_cos', 'minute_sin', 'minute_cos', 'weekday_sin', 'weekday_cos', 'latitude', 'longitude', 'depth']\n",
    "\n",
    "# Ensure new data has the same columns as the training data, in the same order\n",
    "new_data_df = new_data_df[Feature_columns]\n",
    "\n",
    "# Print the input data\n",
    "print(\"\\nFor Input Data:\")\n",
    "pprint(new_data_point)\n",
    "\n",
    "# Make prediction with the trained Random Forest model\n",
    "prediction = loaded_model.predict(new_data_df)\n",
    "\n",
    "print(f\"\\nPredicted Earthquake Magnitude = {prediction[0]:0.2f}\")"
   ]
  },
  {
   "cell_type": "code",
   "execution_count": null,
   "id": "0d7d14dc-decb-4e9b-a847-5d2be982a95b",
   "metadata": {},
   "outputs": [],
   "source": []
  }
 ],
 "metadata": {
  "kernelspec": {
   "display_name": "Python 3 (ipykernel)",
   "language": "python",
   "name": "python3"
  },
  "language_info": {
   "codemirror_mode": {
    "name": "ipython",
    "version": 3
   },
   "file_extension": ".py",
   "mimetype": "text/x-python",
   "name": "python",
   "nbconvert_exporter": "python",
   "pygments_lexer": "ipython3",
   "version": "3.11.7"
  }
 },
 "nbformat": 4,
 "nbformat_minor": 5
}
